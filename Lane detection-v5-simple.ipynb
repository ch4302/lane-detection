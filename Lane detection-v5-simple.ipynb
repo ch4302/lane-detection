{
 "cells": [
  {
   "cell_type": "code",
   "execution_count": null,
   "metadata": {},
   "outputs": [],
   "source": [
    "\"\"\"\n",
    "v5 파일에서 불필요한 부분을 제거하고, 꼭 필요한 코드만 남겨놓은 버전\n",
    "\"\"\""
   ]
  },
  {
   "cell_type": "code",
   "execution_count": 1,
   "metadata": {},
   "outputs": [],
   "source": [
    "import os\n",
    "import re\n",
    "import cv2\n",
    "import numpy as np\n",
    "from tqdm import tqdm_notebook\n",
    "import matplotlib.pyplot as plt\n",
    "import hallym_utils as hu"
   ]
  },
  {
   "cell_type": "code",
   "execution_count": 2,
   "metadata": {},
   "outputs": [
    {
     "name": "stdout",
     "output_type": "stream",
     "text": [
      "resource/set2/frames1_out-v5/  폴더에 결과물을 저장합니다.\n",
      "set2-output-v5.mp4  동영상 파일이 생성될 것 입니다.\n"
     ]
    }
   ],
   "source": [
    "\"\"\"\n",
    "각종 경로 설정하기\n",
    "\"\"\"\n",
    "version = '5'\n",
    "\n",
    "#dataset = 'set1'\n",
    "dataset = 'set2'\n",
    "\n",
    "dir_path_img_frames_read, dir_path_img_frames_write, dir_path_video_out, video_out_filename \\\n",
    "    = hu.set_paths(version, dataset)"
   ]
  },
  {
   "cell_type": "code",
   "execution_count": 3,
   "metadata": {},
   "outputs": [
    {
     "name": "stdout",
     "output_type": "stream",
     "text": [
      "2  차 다항식에 fitting 합니다.\n",
      "7  개의 샘플을 각 hough line에서 추출합니다\n"
     ]
    }
   ],
   "source": [
    "\"\"\"\n",
    "주요 파라미터 설정하기\n",
    "\"\"\"\n",
    "\n",
    "\"\"\"\n",
    "입력으로 들어오는 사진의 크기가, 내가 원하는 크기가 아닐 수 있다. 이를 대비하여 목표로 하는(target) 사진 크기를\n",
    "미리 정해놓고, 만약 입력으로 들어오는 사진의 크기가 내가 원하는 크기가 아니면 resize 해서 사진 크기를 변경하자\n",
    "\"\"\"\n",
    "target_height = hu.target_height  # 영상의 폭\n",
    "target_width = hu.target_width  # 영상의 높이\n",
    "\n",
    "half_height = round(target_height / 2)  # 영상의 중심 높이\n",
    "partial_height = round(target_height / 5) * 3\n",
    "\n",
    "# height를 기준으로, 어느 높이에서 차선의 중앙을 계산할지, \n",
    "# 그리고 사진의 어느 높이에서 내 차의 중앙을 계산할지를 정하는 상수\n",
    "center_lane_height = round(target_height * 0.7)   \n",
    "center_myCar_height = round(target_height * 0.95)  # 이것은 사진 바닥에 가까울 수록 좋다.\n",
    "\n",
    "\"\"\"\n",
    "Frame mask 라는 것을 만들어서, 이미지에 덮어 씌운 다음에 mask 밖의 그림은 다 지워버리고 \n",
    "mask 내부의 그림만 이용해서 차선을 탐지할 것이다. 이때 frame mask 크기를 얼마로 할 것인지를\n",
    "설정하기 위해서 frame 왼쪽의 하단, 상단, 그리고 frame 오른쪽의 상단, 하단의 좌표를\n",
    "아래와 같이 설정하였다.\n",
    "\"\"\"\n",
    "mask_left_bottom = hu.mask_left_bottom\n",
    "mask_left_top = hu.mask_left_top\n",
    "mask_right_top = hu.mask_right_top\n",
    "mask_right_bottom = hu.mask_right_bottom\n",
    "\n",
    "# 다항식에 맞춰서 fitting 할때, 몇차 다항식을 쓸건지?\n",
    "poly_degree = 2\n",
    "print(str(poly_degree), ' 차 다항식에 fitting 합니다.')\n",
    "\n",
    "\"\"\"\n",
    "deg-2에 poly fitting 할때, 몇개의 sample을 택할지를 정하기\n",
    "기본적으로 선의 양 끝을 포함하기 때문에 2개의 점은 기본으로 샘플링 하는거고\n",
    "그 외에 몇개의 점을 더 샘플링 할지를 정하자\n",
    "\"\"\"\n",
    "n_samples = 2+5  \n",
    "print(str(n_samples), ' 개의 샘플을 각 hough line에서 추출합니다')"
   ]
  },
  {
   "cell_type": "code",
   "execution_count": 4,
   "metadata": {},
   "outputs": [
    {
     "data": {
      "application/vnd.jupyter.widget-view+json": {
       "model_id": "885ae5299b5841238174ab21632d8758",
       "version_major": 2,
       "version_minor": 0
      },
      "text/plain": [
       "HBox(children=(FloatProgress(value=0.0, max=312.0), HTML(value='')))"
      ]
     },
     "metadata": {},
     "output_type": "display_data"
    },
    {
     "name": "stdout",
     "output_type": "stream",
     "text": [
      "\n",
      "num images read :  312\n",
      "image shape :  270 480\n",
      "done\n"
     ]
    }
   ],
   "source": [
    "\"\"\"\n",
    "Read Video Frames\n",
    "비디오 : https://www.youtube.com/watch?reload=9&v=KWJaBJYJIjI\n",
    "Frames : 비디오 촬영 영상을 연속된 이미지로 변경 해 놓은 것 (사진파일 다수)\n",
    "\n",
    "비디오를 직접 입력으로 받지 않고, 비디오를 사진으로 변환한 다음에\n",
    "사진 파일을 입력으로 받아서 처리한다.\n",
    "\"\"\"\n",
    "\n",
    "col_images = hu.read_image_frames(dir_path_img_frames_read, target_height, target_width)"
   ]
  },
  {
   "cell_type": "code",
   "execution_count": 5,
   "metadata": {},
   "outputs": [
    {
     "name": "stdout",
     "output_type": "stream",
     "text": [
      "done\n"
     ]
    }
   ],
   "source": [
    "# create a zero array\n",
    "# image frame중에서 아무거나 고르면 된다. 그래서 0번 인덱스를 사용했다.\n",
    "# 아무 이미지나 골라서, width와 height만 가져오는 것이기 때문에 아무 이미지나 골라도 ok\n",
    "stencil = np.zeros_like(col_images[0][:,:,0])\n",
    "\n",
    "# specify coordinates of the polygon\n",
    "# 촬영한 영상에 따라서 다각형의 형태를 조절할 필요가 있겠다.\n",
    "polygon = np.array([mask_left_bottom, mask_left_top, mask_right_top, mask_right_bottom])  # v1에서 사용한 값\n",
    "\n",
    "# fill polygon with ones\n",
    "cv2.fillConvexPoly(stencil, polygon, 1)\n",
    "\n",
    "#plt.figure(figsize=(10,10))\n",
    "#plt.imshow(stencil, cmap= \"gray\")\n",
    "#plt.show()\n",
    "print('done')"
   ]
  },
  {
   "cell_type": "code",
   "execution_count": 6,
   "metadata": {},
   "outputs": [
    {
     "name": "stderr",
     "output_type": "stream",
     "text": [
      "c:\\users\\user\\appdata\\local\\programs\\python\\python36\\lib\\site-packages\\ipykernel_launcher.py:12: TqdmDeprecationWarning: This function will be removed in tqdm==5.0.0\n",
      "Please use `tqdm.notebook.tqdm` instead of `tqdm.tqdm_notebook`\n",
      "  if sys.path[0] == '':\n"
     ]
    },
    {
     "data": {
      "application/vnd.jupyter.widget-view+json": {
       "model_id": "749c72c686e3454d85c37dccf8e57706",
       "version_major": 2,
       "version_minor": 0
      },
      "text/plain": [
       "HBox(children=(FloatProgress(value=0.0, max=312.0), HTML(value='')))"
      ]
     },
     "metadata": {},
     "output_type": "display_data"
    },
    {
     "name": "stderr",
     "output_type": "stream",
     "text": [
      "c:\\users\\user\\appdata\\local\\programs\\python\\python36\\lib\\site-packages\\ipykernel_launcher.py:24: RuntimeWarning: divide by zero encountered in int_scalars\n"
     ]
    },
    {
     "name": "stdout",
     "output_type": "stream",
     "text": [
      "Hough가 오른쪽 차선 탐지 못해서 직전 차선 사용 ... at :  296\n",
      "\n",
      "done, processed image count :  312\n"
     ]
    }
   ],
   "source": [
    "\"\"\"\n",
    "모든 사진 프레임에 차선탐지 알고리즘 적용\n",
    "\"\"\"\n",
    "cnt = 0\n",
    "\n",
    "y_value_stepsize = 3\n",
    "y_values = np.arange(partial_height, target_height, y_value_stepsize)\n",
    "\n",
    "prev_left_lane = hu.frame_mask_lane(mask_left_bottom, mask_left_top)\n",
    "prev_right_lane = hu.frame_mask_lane(mask_right_bottom, mask_right_top)\n",
    "\n",
    "for img in tqdm_notebook(col_images):  # 각각의 도로 사진에 대해서...\n",
    "    masked = cv2.bitwise_and(img[:,:,0], img[:,:,0], mask=stencil)  # frame mask 적용하기\n",
    "    ret, thresh = cv2.threshold(masked, 130, 145, cv2.THRESH_BINARY)  # image thresholding 적용하기\n",
    "    lines = cv2.HoughLinesP(thresh, 1, np.pi/180, 30, maxLineGap=200)\n",
    "    dmy = img.copy()  # 원본 이미지 복사본 만들어서, 그 위에다가 탐지한 선을 그리기\n",
    "\n",
    "    # Plot detected lines : 탐지한 선을 그리기!\n",
    "    left_x, left_y, right_x, right_y = [], [], [], []\n",
    "    \n",
    "    try:\n",
    "        for line in lines:  # 사진에서 탐지한 모든 Hough line에 대해서...\n",
    "            x1, y1, x2, y2 = line[0]\n",
    "            curr_slope = (x2 - x1) / (y2 - y1)  # 탐지한 차선의 경사를 계산하기\n",
    "            \n",
    "            \"\"\"\n",
    "            slope-max/min값은 상황에 따라서 약간의 튜닝이 필요할 수도 있다.\n",
    "            정해진 max/min 범위를 벗어하는 선은, 잘못 탐지된 선으로 보인다.\n",
    "            그래서, 일정 기울기를 넘어서거나 또는 이하인 선들은 모두 제거하는 방식으로 수정했다.\n",
    "            \"\"\"            \n",
    "            if curr_slope > hu.slope_max or curr_slope < hu.slope_min:\n",
    "                continue\n",
    "            \n",
    "            if curr_slope < 0 :  # 기울기가 음수이면 왼쪽차선이다! 좌표계 기준이 다름.\n",
    "                #left_x.append(x1) left_x.append(x2) left_y.append(y1) left_y.append(y2)\n",
    "                samples = hu.get_sameples_from_line([x1,y1], [x2,y2], n_samples)\n",
    "                for sample in samples:\n",
    "                    left_x.append(sample[0])\n",
    "                    left_y.append(sample[1])\n",
    "            elif curr_slope > 0:  # 기울기가 양수이면 오른차선이다! 좌표계 기준이 다름.\n",
    "                #right_x.append(x1) right_x.append(x2) right_y.append(y1) right_y.append(y2)\n",
    "                samples = hu.get_sameples_from_line([x1,y1], [x2,y2], n_samples)\n",
    "                for sample in samples:\n",
    "                    right_x.append(sample[0])\n",
    "                    right_y.append(sample[1])\n",
    "            else:\n",
    "                assert False\n",
    "            \n",
    "            # Hough 결과를 그림에 표시\n",
    "            cv2.line(dmy, (x1, y1), (x2, y2), (255, 0, 0), 3)\n",
    "  \n",
    "        #draw_left, draw_right = False, False\n",
    "    \n",
    "        # 왼쪽 차선 그리기. x와 y를 일부러 반대로 넣었음.\n",
    "        if len(left_x) > 0:  # 왼쪽 차선을 Hough 가 탐지했다면...\n",
    "            left_func = np.polyfit(left_y, left_x, poly_degree)\n",
    "            left_lane = np.poly1d(left_func)\n",
    "            left_xs = left_lane(y_values)\n",
    "            prev_left_lane = left_lane\n",
    "        else:  # 왼쪽 차선을 Hough 가 탐지 못했어!!!\n",
    "            print('Hough가 왼쪽 차선 탐지 못해서 직전 차선 사용 ... at : ', cnt)\n",
    "            left_lane = prev_left_lane\n",
    "            left_xs = left_lane(y_values)\n",
    "        \n",
    "        # 오른쪽 차선 그리기. x와 y를 일부러 반대로 넣었음.\n",
    "        if len(right_x) > 0:  # 왼쪽 차선을 Hough 가 탐지했다면...\n",
    "            right_func = np.polyfit(right_y, right_x, poly_degree)\n",
    "            right_lane = np.poly1d(right_func)\n",
    "            right_xs = right_lane(y_values)\n",
    "            prev_right_lane = right_lane\n",
    "        else:  # 왼쪽 차선을 Hough 가 탐지 못했어!!!\n",
    "            print('Hough가 오른쪽 차선 탐지 못해서 직전 차선 사용 ... at : ', cnt)\n",
    "            right_lane = prev_right_lane\n",
    "            right_xs = right_lane(y_values)\n",
    "            \n",
    "        # plot frame\n",
    "        curr_fig = plt.figure(figsize=(10,10))\n",
    "        plt.imshow(dmy, cmap= \"gray\")\n",
    "        plt.plot(left_xs, y_values, 'y*')\n",
    "        plt.plot(right_xs, y_values, 'y*')\n",
    "            \n",
    "        # 차선의 중앙을 계산\n",
    "        left_center_x = left_lane(center_lane_height)\n",
    "        right_center_x = right_lane(center_lane_height)\n",
    "        center_lane_x = left_center_x + round( (right_center_x - left_center_x) / 2 )\n",
    "        # 내 차의 중간을 계산\n",
    "        center_myCar_x = round(target_width / 2)\n",
    "\n",
    "        plt.plot(center_lane_x, center_lane_height, 'r+', markersize=12)  # 차선의 중앙을 표시\n",
    "        plt.text(10,20, '+ : center of both lanes', fontsize=12, bbox=dict(facecolor='red', alpha=0.5))\n",
    "\n",
    "        if center_lane_x < center_myCar_x:\n",
    "            msg = 'Move to the LEFT!!'                \n",
    "        elif center_lane_x > center_myCar_x:\n",
    "            msg = 'Move to the RIGHT!!'                \n",
    "        else:\n",
    "            msg = 'I am at the CENTER!!'\n",
    "\n",
    "        plt.text(180,100, msg, fontsize=20, bbox=dict(facecolor='yellow', alpha=0.5))\n",
    "        \n",
    "        plt.plot(center_myCar_x, center_myCar_height, 'gx', markersize=12)  # 내 차의 중앙을 표시\n",
    "        plt.text(10,40, 'x : center of my car', fontsize=12, bbox=dict(facecolor='green', alpha=0.5))    \n",
    "        plt.savefig(dir_path_img_frames_write+str(cnt)+'.png')  # 사진을 파일로 저장\n",
    "        plt.close(curr_fig)  # Notebook에 출력하면 너무 많아서.. 출력 금지!\n",
    "        \n",
    "    except TypeError: \n",
    "        cv2.imwrite(dir_path_img_frames_write+str(cnt)+'.png',img)  # 원본 그림 저장\n",
    "        \"\"\"\n",
    "        오류가 언제, 왜 발생하는지 분석이 안되서, 일단은 그냥 무시하는 것으로...\n",
    "        \"\"\"\n",
    "        print('Type Error가 발생했습니다.')\n",
    "        print('Error at INDEX : ', cnt)\n",
    "        plt.imshow(dmy)\n",
    "        plt.show()        \n",
    "        #assert False, \"Type Error 가 발생했습니다.\"\n",
    "\n",
    "    cnt+= 1\n",
    "\n",
    "print('done, processed image count : ', cnt)"
   ]
  },
  {
   "cell_type": "code",
   "execution_count": 7,
   "metadata": {},
   "outputs": [
    {
     "data": {
      "application/vnd.jupyter.widget-view+json": {
       "model_id": "bcd9b2394df4477b8ee90dedaecf0bc5",
       "version_major": 2,
       "version_minor": 0
      },
      "text/plain": [
       "HBox(children=(FloatProgress(value=0.0, max=312.0), HTML(value='')))"
      ]
     },
     "metadata": {},
     "output_type": "display_data"
    },
    {
     "name": "stdout",
     "output_type": "stream",
     "text": [
      "\n",
      "done\n"
     ]
    }
   ],
   "source": [
    "\"\"\"\n",
    "차선 탐지된 이미지를 묶어서 비디오로 만들기\n",
    "\"\"\"\n",
    "hu.make_video_from_images(dir_path_img_frames_write, dir_path_video_out, video_out_filename)\n",
    "print('done')"
   ]
  },
  {
   "cell_type": "code",
   "execution_count": null,
   "metadata": {},
   "outputs": [],
   "source": [
    "# THE END"
   ]
  }
 ],
 "metadata": {
  "kernelspec": {
   "display_name": "Python 3",
   "language": "python",
   "name": "python3"
  },
  "language_info": {
   "codemirror_mode": {
    "name": "ipython",
    "version": 3
   },
   "file_extension": ".py",
   "mimetype": "text/x-python",
   "name": "python",
   "nbconvert_exporter": "python",
   "pygments_lexer": "ipython3",
   "version": "3.6.8"
  }
 },
 "nbformat": 4,
 "nbformat_minor": 2
}
